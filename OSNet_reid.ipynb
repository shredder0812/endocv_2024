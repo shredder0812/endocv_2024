{
  "cells": [
    {
      "cell_type": "markdown",
      "metadata": {
        "id": "PbZUSFpjDAZs"
      },
      "source": [
        "# Requirements"
      ]
    },
    {
      "cell_type": "code",
      "execution_count": null,
      "metadata": {
        "colab": {
          "base_uri": "https://localhost:8080/"
        },
        "id": "6QSughWIyViA",
        "outputId": "cce06e7d-b5cb-4a7d-ed7b-f72a078ab134"
      },
      "outputs": [
        {
          "name": "stdout",
          "output_type": "stream",
          "text": [
            "Mounted at /content/drive\n"
          ]
        }
      ],
      "source": [
        "from google.colab import drive\n",
        "drive.mount('/content/drive')"
      ]
    },
    {
      "cell_type": "code",
      "execution_count": null,
      "metadata": {
        "colab": {
          "base_uri": "https://localhost:8080/"
        },
        "id": "QP4TtGrHKIxF",
        "outputId": "ee223202-f22d-4b6e-b1fc-de45129e5dec"
      },
      "outputs": [
        {
          "name": "stdout",
          "output_type": "stream",
          "text": [
            "Cloning into 'deep-person-reid'...\n",
            "remote: Enumerating objects: 5089, done.\u001b[K\n",
            "remote: Counting objects: 100% (82/82), done.\u001b[K\n",
            "remote: Compressing objects: 100% (69/69), done.\u001b[K\n",
            "remote: Total 5089 (delta 41), reused 29 (delta 13), pack-reused 5007\u001b[K\n",
            "Receiving objects: 100% (5089/5089), 1.87 MiB | 17.08 MiB/s, done.\n",
            "Resolving deltas: 100% (3532/3532), done.\n",
            "/content/deep-person-reid\n",
            "ERROR: unknown command \"create\"\n",
            "ERROR: unknown command \"activate\"\n",
            "Requirement already satisfied: numpy in /usr/local/lib/python3.10/dist-packages (from -r requirements.txt (line 1)) (1.25.2)\n",
            "Requirement already satisfied: Cython in /usr/local/lib/python3.10/dist-packages (from -r requirements.txt (line 2)) (3.0.10)\n",
            "Requirement already satisfied: h5py in /usr/local/lib/python3.10/dist-packages (from -r requirements.txt (line 3)) (3.9.0)\n",
            "Requirement already satisfied: Pillow in /usr/local/lib/python3.10/dist-packages (from -r requirements.txt (line 4)) (9.4.0)\n",
            "Requirement already satisfied: six in /usr/local/lib/python3.10/dist-packages (from -r requirements.txt (line 5)) (1.16.0)\n",
            "Requirement already satisfied: scipy in /usr/local/lib/python3.10/dist-packages (from -r requirements.txt (line 6)) (1.11.4)\n",
            "Requirement already satisfied: opencv-python in /usr/local/lib/python3.10/dist-packages (from -r requirements.txt (line 7)) (4.8.0.76)\n",
            "Requirement already satisfied: matplotlib in /usr/local/lib/python3.10/dist-packages (from -r requirements.txt (line 8)) (3.7.1)\n",
            "Requirement already satisfied: tb-nightly in /usr/local/lib/python3.10/dist-packages (from -r requirements.txt (line 9)) (2.17.0a20240509)\n",
            "Requirement already satisfied: future in /usr/local/lib/python3.10/dist-packages (from -r requirements.txt (line 10)) (0.18.3)\n",
            "Requirement already satisfied: yacs in /usr/local/lib/python3.10/dist-packages (from -r requirements.txt (line 11)) (0.1.8)\n",
            "Requirement already satisfied: gdown in /usr/local/lib/python3.10/dist-packages (from -r requirements.txt (line 12)) (5.1.0)\n",
            "Requirement already satisfied: flake8 in /usr/local/lib/python3.10/dist-packages (from -r requirements.txt (line 13)) (7.0.0)\n",
            "Requirement already satisfied: yapf in /usr/local/lib/python3.10/dist-packages (from -r requirements.txt (line 14)) (0.40.2)\n",
            "Requirement already satisfied: isort==4.3.21 in /usr/local/lib/python3.10/dist-packages (from -r requirements.txt (line 15)) (4.3.21)\n",
            "Requirement already satisfied: imageio in /usr/local/lib/python3.10/dist-packages (from -r requirements.txt (line 16)) (2.31.6)\n",
            "Requirement already satisfied: chardet in /usr/local/lib/python3.10/dist-packages (from -r requirements.txt (line 17)) (5.2.0)\n",
            "Requirement already satisfied: contourpy>=1.0.1 in /usr/local/lib/python3.10/dist-packages (from matplotlib->-r requirements.txt (line 8)) (1.2.1)\n",
            "Requirement already satisfied: cycler>=0.10 in /usr/local/lib/python3.10/dist-packages (from matplotlib->-r requirements.txt (line 8)) (0.12.1)\n",
            "Requirement already satisfied: fonttools>=4.22.0 in /usr/local/lib/python3.10/dist-packages (from matplotlib->-r requirements.txt (line 8)) (4.51.0)\n",
            "Requirement already satisfied: kiwisolver>=1.0.1 in /usr/local/lib/python3.10/dist-packages (from matplotlib->-r requirements.txt (line 8)) (1.4.5)\n",
            "Requirement already satisfied: packaging>=20.0 in /usr/local/lib/python3.10/dist-packages (from matplotlib->-r requirements.txt (line 8)) (24.0)\n",
            "Requirement already satisfied: pyparsing>=2.3.1 in /usr/local/lib/python3.10/dist-packages (from matplotlib->-r requirements.txt (line 8)) (3.1.2)\n",
            "Requirement already satisfied: python-dateutil>=2.7 in /usr/local/lib/python3.10/dist-packages (from matplotlib->-r requirements.txt (line 8)) (2.8.2)\n",
            "Requirement already satisfied: absl-py>=0.4 in /usr/local/lib/python3.10/dist-packages (from tb-nightly->-r requirements.txt (line 9)) (1.4.0)\n",
            "Requirement already satisfied: grpcio>=1.48.2 in /usr/local/lib/python3.10/dist-packages (from tb-nightly->-r requirements.txt (line 9)) (1.63.0)\n",
            "Requirement already satisfied: markdown>=2.6.8 in /usr/local/lib/python3.10/dist-packages (from tb-nightly->-r requirements.txt (line 9)) (3.6)\n",
            "Requirement already satisfied: protobuf!=4.24.0,<5.0.0,>=3.19.6 in /usr/local/lib/python3.10/dist-packages (from tb-nightly->-r requirements.txt (line 9)) (3.20.3)\n",
            "Requirement already satisfied: setuptools>=41.0.0 in /usr/local/lib/python3.10/dist-packages (from tb-nightly->-r requirements.txt (line 9)) (67.7.2)\n",
            "Requirement already satisfied: tensorboard-data-server<0.8.0,>=0.7.0 in /usr/local/lib/python3.10/dist-packages (from tb-nightly->-r requirements.txt (line 9)) (0.7.2)\n",
            "Requirement already satisfied: werkzeug>=1.0.1 in /usr/local/lib/python3.10/dist-packages (from tb-nightly->-r requirements.txt (line 9)) (3.0.3)\n",
            "Requirement already satisfied: PyYAML in /usr/local/lib/python3.10/dist-packages (from yacs->-r requirements.txt (line 11)) (6.0.1)\n",
            "Requirement already satisfied: beautifulsoup4 in /usr/local/lib/python3.10/dist-packages (from gdown->-r requirements.txt (line 12)) (4.12.3)\n",
            "Requirement already satisfied: filelock in /usr/local/lib/python3.10/dist-packages (from gdown->-r requirements.txt (line 12)) (3.14.0)\n",
            "Requirement already satisfied: requests[socks] in /usr/local/lib/python3.10/dist-packages (from gdown->-r requirements.txt (line 12)) (2.31.0)\n",
            "Requirement already satisfied: tqdm in /usr/local/lib/python3.10/dist-packages (from gdown->-r requirements.txt (line 12)) (4.66.4)\n",
            "Requirement already satisfied: mccabe<0.8.0,>=0.7.0 in /usr/local/lib/python3.10/dist-packages (from flake8->-r requirements.txt (line 13)) (0.7.0)\n",
            "Requirement already satisfied: pycodestyle<2.12.0,>=2.11.0 in /usr/local/lib/python3.10/dist-packages (from flake8->-r requirements.txt (line 13)) (2.11.1)\n",
            "Requirement already satisfied: pyflakes<3.3.0,>=3.2.0 in /usr/local/lib/python3.10/dist-packages (from flake8->-r requirements.txt (line 13)) (3.2.0)\n",
            "Requirement already satisfied: importlib-metadata>=6.6.0 in /usr/local/lib/python3.10/dist-packages (from yapf->-r requirements.txt (line 14)) (7.1.0)\n",
            "Requirement already satisfied: platformdirs>=3.5.1 in /usr/local/lib/python3.10/dist-packages (from yapf->-r requirements.txt (line 14)) (4.2.1)\n",
            "Requirement already satisfied: tomli>=2.0.1 in /usr/local/lib/python3.10/dist-packages (from yapf->-r requirements.txt (line 14)) (2.0.1)\n",
            "Requirement already satisfied: zipp>=0.5 in /usr/local/lib/python3.10/dist-packages (from importlib-metadata>=6.6.0->yapf->-r requirements.txt (line 14)) (3.18.1)\n",
            "Requirement already satisfied: MarkupSafe>=2.1.1 in /usr/local/lib/python3.10/dist-packages (from werkzeug>=1.0.1->tb-nightly->-r requirements.txt (line 9)) (2.1.5)\n",
            "Requirement already satisfied: soupsieve>1.2 in /usr/local/lib/python3.10/dist-packages (from beautifulsoup4->gdown->-r requirements.txt (line 12)) (2.5)\n",
            "Requirement already satisfied: charset-normalizer<4,>=2 in /usr/local/lib/python3.10/dist-packages (from requests[socks]->gdown->-r requirements.txt (line 12)) (3.3.2)\n",
            "Requirement already satisfied: idna<4,>=2.5 in /usr/local/lib/python3.10/dist-packages (from requests[socks]->gdown->-r requirements.txt (line 12)) (3.7)\n",
            "Requirement already satisfied: urllib3<3,>=1.21.1 in /usr/local/lib/python3.10/dist-packages (from requests[socks]->gdown->-r requirements.txt (line 12)) (2.0.7)\n",
            "Requirement already satisfied: certifi>=2017.4.17 in /usr/local/lib/python3.10/dist-packages (from requests[socks]->gdown->-r requirements.txt (line 12)) (2024.2.2)\n",
            "Requirement already satisfied: PySocks!=1.5.7,>=1.5.6 in /usr/local/lib/python3.10/dist-packages (from requests[socks]->gdown->-r requirements.txt (line 12)) (1.7.1)\n",
            "\u001b[31mERROR: Could not open requirements file: [Errno 2] No such file or directory: 'pytorch'\u001b[0m\u001b[31m\n",
            "\u001b[0m/content/deep-person-reid/torchreid/metrics/rank.py:11: UserWarning: Cython evaluation (very fast so highly recommended) is unavailable, now use python evaluation.\n",
            "  warnings.warn(\n",
            "2024-05-10 09:20:58.989166: E external/local_xla/xla/stream_executor/cuda/cuda_dnn.cc:9261] Unable to register cuDNN factory: Attempting to register factory for plugin cuDNN when one has already been registered\n",
            "2024-05-10 09:20:58.989215: E external/local_xla/xla/stream_executor/cuda/cuda_fft.cc:607] Unable to register cuFFT factory: Attempting to register factory for plugin cuFFT when one has already been registered\n",
            "2024-05-10 09:20:58.990591: E external/local_xla/xla/stream_executor/cuda/cuda_blas.cc:1515] Unable to register cuBLAS factory: Attempting to register factory for plugin cuBLAS when one has already been registered\n",
            "2024-05-10 09:21:00.101674: W tensorflow/compiler/tf2tensorrt/utils/py_utils.cc:38] TF-TRT Warning: Could not find TensorRT\n",
            "Compiling torchreid/metrics/rank_cylib/rank_cy.pyx because it changed.\n",
            "[1/1] Cythonizing torchreid/metrics/rank_cylib/rank_cy.pyx\n",
            "/usr/local/lib/python3.10/dist-packages/Cython/Compiler/Main.py:381: FutureWarning: Cython directive 'language_level' not set, using '3str' for now (Py3). This has changed from earlier releases! File: /content/deep-person-reid/torchreid/metrics/rank_cylib/rank_cy.pyx\n",
            "  tree = Parsing.p_module(s, pxd, full_module_name)\n",
            "running develop\n",
            "/usr/local/lib/python3.10/dist-packages/setuptools/command/develop.py:40: EasyInstallDeprecationWarning: easy_install command is deprecated.\n",
            "!!\n",
            "\n",
            "        ********************************************************************************\n",
            "        Please avoid running ``setup.py`` and ``easy_install``.\n",
            "        Instead, use pypa/build, pypa/installer, pypa/build or\n",
            "        other standards-based tools.\n",
            "\n",
            "        See https://github.com/pypa/setuptools/issues/917 for details.\n",
            "        ********************************************************************************\n",
            "\n",
            "!!\n",
            "  easy_install.initialize_options(self)\n",
            "/usr/local/lib/python3.10/dist-packages/setuptools/_distutils/cmd.py:66: SetuptoolsDeprecationWarning: setup.py install is deprecated.\n",
            "!!\n",
            "\n",
            "        ********************************************************************************\n",
            "        Please avoid running ``setup.py`` directly.\n",
            "        Instead, use pypa/build, pypa/installer, pypa/build or\n",
            "        other standards-based tools.\n",
            "\n",
            "        See https://blog.ganssle.io/articles/2021/10/setup-py-deprecated.html for details.\n",
            "        ********************************************************************************\n",
            "\n",
            "!!\n",
            "  self.initialize_options()\n",
            "running egg_info\n",
            "creating torchreid.egg-info\n",
            "writing torchreid.egg-info/PKG-INFO\n",
            "writing dependency_links to torchreid.egg-info/dependency_links.txt\n",
            "writing requirements to torchreid.egg-info/requires.txt\n",
            "writing top-level names to torchreid.egg-info/top_level.txt\n",
            "writing manifest file 'torchreid.egg-info/SOURCES.txt'\n",
            "reading manifest file 'torchreid.egg-info/SOURCES.txt'\n",
            "adding license file 'LICENSE'\n",
            "writing manifest file 'torchreid.egg-info/SOURCES.txt'\n",
            "running build_ext\n",
            "building 'torchreid.metrics.rank_cylib.rank_cy' extension\n",
            "creating build\n",
            "creating build/temp.linux-x86_64-cpython-310\n",
            "creating build/temp.linux-x86_64-cpython-310/torchreid\n",
            "creating build/temp.linux-x86_64-cpython-310/torchreid/metrics\n",
            "creating build/temp.linux-x86_64-cpython-310/torchreid/metrics/rank_cylib\n",
            "x86_64-linux-gnu-gcc -Wno-unused-result -Wsign-compare -DNDEBUG -g -fwrapv -O2 -Wall -g -fstack-protector-strong -Wformat -Werror=format-security -g -fwrapv -O2 -fPIC -I/usr/local/lib/python3.10/dist-packages/numpy/core/include -I/usr/include/python3.10 -c torchreid/metrics/rank_cylib/rank_cy.c -o build/temp.linux-x86_64-cpython-310/torchreid/metrics/rank_cylib/rank_cy.o\n",
            "In file included from \u001b[01m\u001b[K/usr/local/lib/python3.10/dist-packages/numpy/core/include/numpy/ndarraytypes.h:1929\u001b[m\u001b[K,\n",
            "                 from \u001b[01m\u001b[K/usr/local/lib/python3.10/dist-packages/numpy/core/include/numpy/ndarrayobject.h:12\u001b[m\u001b[K,\n",
            "                 from \u001b[01m\u001b[K/usr/local/lib/python3.10/dist-packages/numpy/core/include/numpy/arrayobject.h:5\u001b[m\u001b[K,\n",
            "                 from \u001b[01m\u001b[Ktorchreid/metrics/rank_cylib/rank_cy.c:1250\u001b[m\u001b[K:\n",
            "\u001b[01m\u001b[K/usr/local/lib/python3.10/dist-packages/numpy/core/include/numpy/npy_1_7_deprecated_api.h:17:2:\u001b[m\u001b[K \u001b[01;35m\u001b[Kwarning: \u001b[m\u001b[K#warning \"Using deprecated NumPy API, disable it with \" \"#define NPY_NO_DEPRECATED_API NPY_1_7_API_VERSION\" [\u001b[01;35m\u001b[K\u001b]8;;https://gcc.gnu.org/onlinedocs/gcc/Warning-Options.html#index-Wcpp\u0007-Wcpp\u001b]8;;\u0007\u001b[m\u001b[K]\n",
            "   17 | #\u001b[01;35m\u001b[Kwarning\u001b[m\u001b[K \"Using deprecated NumPy API, disable it with \" \\\n",
            "      |  \u001b[01;35m\u001b[K^~~~~~~\u001b[m\u001b[K\n",
            "creating build/lib.linux-x86_64-cpython-310\n",
            "creating build/lib.linux-x86_64-cpython-310/torchreid\n",
            "creating build/lib.linux-x86_64-cpython-310/torchreid/metrics\n",
            "creating build/lib.linux-x86_64-cpython-310/torchreid/metrics/rank_cylib\n",
            "x86_64-linux-gnu-gcc -shared -Wl,-O1 -Wl,-Bsymbolic-functions -Wl,-Bsymbolic-functions -g -fwrapv -O2 build/temp.linux-x86_64-cpython-310/torchreid/metrics/rank_cylib/rank_cy.o -L/usr/lib/x86_64-linux-gnu -o build/lib.linux-x86_64-cpython-310/torchreid/metrics/rank_cylib/rank_cy.cpython-310-x86_64-linux-gnu.so\n",
            "copying build/lib.linux-x86_64-cpython-310/torchreid/metrics/rank_cylib/rank_cy.cpython-310-x86_64-linux-gnu.so -> torchreid/metrics/rank_cylib\n",
            "Creating /usr/local/lib/python3.10/dist-packages/torchreid.egg-link (link to .)\n",
            "torchreid 1.4.0 is already the active version in easy-install.pth\n",
            "\n",
            "Installed /content/deep-person-reid\n",
            "Processing dependencies for torchreid==1.4.0\n",
            "Searching for chardet==5.2.0\n",
            "Best match: chardet 5.2.0\n",
            "Adding chardet 5.2.0 to easy-install.pth file\n",
            "Installing chardetect script to /usr/local/bin\n",
            "\n",
            "Using /usr/local/lib/python3.10/dist-packages\n",
            "Searching for imageio==2.31.6\n",
            "Best match: imageio 2.31.6\n",
            "Adding imageio 2.31.6 to easy-install.pth file\n",
            "Installing imageio_download_bin script to /usr/local/bin\n",
            "Installing imageio_remove_bin script to /usr/local/bin\n",
            "\n",
            "Using /usr/local/lib/python3.10/dist-packages\n",
            "Searching for isort==4.3.21\n",
            "Best match: isort 4.3.21\n",
            "Adding isort 4.3.21 to easy-install.pth file\n",
            "Installing isort script to /usr/local/bin\n",
            "\n",
            "Using /usr/local/lib/python3.10/dist-packages\n",
            "Searching for yapf==0.40.2\n",
            "Best match: yapf 0.40.2\n",
            "Adding yapf 0.40.2 to easy-install.pth file\n",
            "Installing yapf script to /usr/local/bin\n",
            "Installing yapf-diff script to /usr/local/bin\n",
            "\n",
            "Using /usr/local/lib/python3.10/dist-packages\n",
            "Searching for flake8==7.0.0\n",
            "Best match: flake8 7.0.0\n",
            "Adding flake8 7.0.0 to easy-install.pth file\n",
            "Installing flake8 script to /usr/local/bin\n",
            "\n",
            "Using /usr/local/lib/python3.10/dist-packages\n",
            "Searching for gdown==5.1.0\n",
            "Best match: gdown 5.1.0\n",
            "Adding gdown 5.1.0 to easy-install.pth file\n",
            "Installing gdown script to /usr/local/bin\n",
            "\n",
            "Using /usr/local/lib/python3.10/dist-packages\n",
            "Searching for yacs==0.1.8\n",
            "Best match: yacs 0.1.8\n",
            "Adding yacs 0.1.8 to easy-install.pth file\n",
            "\n",
            "Using /usr/local/lib/python3.10/dist-packages\n",
            "Searching for future==0.18.3\n",
            "Best match: future 0.18.3\n",
            "Adding future 0.18.3 to easy-install.pth file\n",
            "Installing futurize script to /usr/local/bin\n",
            "Installing pasteurize script to /usr/local/bin\n",
            "\n",
            "Using /usr/local/lib/python3.10/dist-packages\n",
            "Searching for tb-nightly==2.17.0a20240509\n",
            "Best match: tb-nightly 2.17.0a20240509\n",
            "Adding tb-nightly 2.17.0a20240509 to easy-install.pth file\n",
            "Installing tensorboard script to /usr/local/bin\n",
            "\n",
            "Using /usr/local/lib/python3.10/dist-packages\n",
            "Searching for matplotlib==3.7.1\n",
            "Best match: matplotlib 3.7.1\n",
            "Adding matplotlib 3.7.1 to easy-install.pth file\n",
            "\n",
            "Using /usr/local/lib/python3.10/dist-packages\n",
            "Searching for opencv-python==4.8.0.76\n",
            "Best match: opencv-python 4.8.0.76\n",
            "Adding opencv-python 4.8.0.76 to easy-install.pth file\n",
            "\n",
            "Using /usr/local/lib/python3.10/dist-packages\n",
            "Searching for scipy==1.11.4\n",
            "Best match: scipy 1.11.4\n",
            "Adding scipy 1.11.4 to easy-install.pth file\n",
            "\n",
            "Using /usr/local/lib/python3.10/dist-packages\n",
            "Searching for six==1.16.0\n",
            "Best match: six 1.16.0\n",
            "Adding six 1.16.0 to easy-install.pth file\n",
            "\n",
            "Using /usr/local/lib/python3.10/dist-packages\n",
            "Searching for Pillow==9.4.0\n",
            "Best match: Pillow 9.4.0\n",
            "Adding Pillow 9.4.0 to easy-install.pth file\n",
            "\n",
            "Using /usr/local/lib/python3.10/dist-packages\n",
            "Searching for h5py==3.9.0\n",
            "Best match: h5py 3.9.0\n",
            "Adding h5py 3.9.0 to easy-install.pth file\n",
            "\n",
            "Using /usr/local/lib/python3.10/dist-packages\n",
            "Searching for Cython==3.0.10\n",
            "Best match: Cython 3.0.10\n",
            "Adding Cython 3.0.10 to easy-install.pth file\n",
            "Installing cygdb script to /usr/local/bin\n",
            "Installing cython script to /usr/local/bin\n",
            "Installing cythonize script to /usr/local/bin\n",
            "\n",
            "Using /usr/local/lib/python3.10/dist-packages\n",
            "Searching for numpy==1.25.2\n",
            "Best match: numpy 1.25.2\n",
            "Adding numpy 1.25.2 to easy-install.pth file\n",
            "Installing f2py script to /usr/local/bin\n",
            "Installing f2py3 script to /usr/local/bin\n",
            "Installing f2py3.10 script to /usr/local/bin\n",
            "\n",
            "Using /usr/local/lib/python3.10/dist-packages\n",
            "Searching for tomli==2.0.1\n",
            "Best match: tomli 2.0.1\n",
            "Adding tomli 2.0.1 to easy-install.pth file\n",
            "\n",
            "Using /usr/local/lib/python3.10/dist-packages\n",
            "Searching for platformdirs==4.2.1\n",
            "Best match: platformdirs 4.2.1\n",
            "Adding platformdirs 4.2.1 to easy-install.pth file\n",
            "\n",
            "Using /usr/local/lib/python3.10/dist-packages\n",
            "Searching for importlib-metadata==7.1.0\n",
            "Best match: importlib-metadata 7.1.0\n",
            "Adding importlib-metadata 7.1.0 to easy-install.pth file\n",
            "\n",
            "Using /usr/local/lib/python3.10/dist-packages\n",
            "Searching for pyflakes==3.2.0\n",
            "Best match: pyflakes 3.2.0\n",
            "Adding pyflakes 3.2.0 to easy-install.pth file\n",
            "Installing pyflakes script to /usr/local/bin\n",
            "\n",
            "Using /usr/local/lib/python3.10/dist-packages\n",
            "Searching for pycodestyle==2.11.1\n",
            "Best match: pycodestyle 2.11.1\n",
            "Adding pycodestyle 2.11.1 to easy-install.pth file\n",
            "Installing pycodestyle script to /usr/local/bin\n",
            "\n",
            "Using /usr/local/lib/python3.10/dist-packages\n",
            "Searching for mccabe==0.7.0\n",
            "Best match: mccabe 0.7.0\n",
            "Adding mccabe 0.7.0 to easy-install.pth file\n",
            "\n",
            "Using /usr/local/lib/python3.10/dist-packages\n",
            "Searching for tqdm==4.66.4\n",
            "Best match: tqdm 4.66.4\n",
            "Adding tqdm 4.66.4 to easy-install.pth file\n",
            "Installing tqdm script to /usr/local/bin\n",
            "\n",
            "Using /usr/local/lib/python3.10/dist-packages\n",
            "Searching for requests==2.31.0\n",
            "Best match: requests 2.31.0\n",
            "Adding requests 2.31.0 to easy-install.pth file\n",
            "\n",
            "Using /usr/local/lib/python3.10/dist-packages\n",
            "Searching for filelock==3.14.0\n",
            "Best match: filelock 3.14.0\n",
            "Adding filelock 3.14.0 to easy-install.pth file\n",
            "\n",
            "Using /usr/local/lib/python3.10/dist-packages\n",
            "Searching for beautifulsoup4==4.12.3\n",
            "Best match: beautifulsoup4 4.12.3\n",
            "Adding beautifulsoup4 4.12.3 to easy-install.pth file\n",
            "\n",
            "Using /usr/local/lib/python3.10/dist-packages\n",
            "Searching for PyYAML==6.0.1\n",
            "Best match: PyYAML 6.0.1\n",
            "Adding PyYAML 6.0.1 to easy-install.pth file\n",
            "\n",
            "Using /usr/local/lib/python3.10/dist-packages\n",
            "Searching for werkzeug==3.0.3\n",
            "Best match: werkzeug 3.0.3\n",
            "Adding werkzeug 3.0.3 to easy-install.pth file\n",
            "\n",
            "Using /usr/local/lib/python3.10/dist-packages\n",
            "Searching for tensorboard-data-server==0.7.2\n",
            "Best match: tensorboard-data-server 0.7.2\n",
            "Adding tensorboard-data-server 0.7.2 to easy-install.pth file\n",
            "\n",
            "Using /usr/local/lib/python3.10/dist-packages\n",
            "Searching for setuptools==67.7.2\n",
            "Best match: setuptools 67.7.2\n",
            "Adding setuptools 67.7.2 to easy-install.pth file\n",
            "\n",
            "Using /usr/local/lib/python3.10/dist-packages\n",
            "Searching for protobuf==3.20.3\n",
            "Best match: protobuf 3.20.3\n",
            "Adding protobuf 3.20.3 to easy-install.pth file\n",
            "\n",
            "Using /usr/local/lib/python3.10/dist-packages\n",
            "Searching for Markdown==3.6\n",
            "Best match: Markdown 3.6\n",
            "Adding Markdown 3.6 to easy-install.pth file\n",
            "Installing markdown_py script to /usr/local/bin\n",
            "\n",
            "Using /usr/local/lib/python3.10/dist-packages\n",
            "Searching for grpcio==1.63.0\n",
            "Best match: grpcio 1.63.0\n",
            "Adding grpcio 1.63.0 to easy-install.pth file\n",
            "\n",
            "Using /usr/local/lib/python3.10/dist-packages\n",
            "Searching for absl-py==1.4.0\n",
            "Best match: absl-py 1.4.0\n",
            "Adding absl-py 1.4.0 to easy-install.pth file\n",
            "\n",
            "Using /usr/local/lib/python3.10/dist-packages\n",
            "Searching for python-dateutil==2.8.2\n",
            "Best match: python-dateutil 2.8.2\n",
            "Adding python-dateutil 2.8.2 to easy-install.pth file\n",
            "\n",
            "Using /usr/local/lib/python3.10/dist-packages\n",
            "Searching for pyparsing==3.1.2\n",
            "Best match: pyparsing 3.1.2\n",
            "Adding pyparsing 3.1.2 to easy-install.pth file\n",
            "\n",
            "Using /usr/local/lib/python3.10/dist-packages\n",
            "Searching for packaging==24.0\n",
            "Best match: packaging 24.0\n",
            "Adding packaging 24.0 to easy-install.pth file\n",
            "\n",
            "Using /usr/local/lib/python3.10/dist-packages\n",
            "Searching for kiwisolver==1.4.5\n",
            "Best match: kiwisolver 1.4.5\n",
            "Adding kiwisolver 1.4.5 to easy-install.pth file\n",
            "\n",
            "Using /usr/local/lib/python3.10/dist-packages\n",
            "Searching for fonttools==4.51.0\n",
            "Best match: fonttools 4.51.0\n",
            "Adding fonttools 4.51.0 to easy-install.pth file\n",
            "Installing fonttools script to /usr/local/bin\n",
            "Installing pyftmerge script to /usr/local/bin\n",
            "Installing pyftsubset script to /usr/local/bin\n",
            "Installing ttx script to /usr/local/bin\n",
            "\n",
            "Using /usr/local/lib/python3.10/dist-packages\n",
            "Searching for cycler==0.12.1\n",
            "Best match: cycler 0.12.1\n",
            "Adding cycler 0.12.1 to easy-install.pth file\n",
            "\n",
            "Using /usr/local/lib/python3.10/dist-packages\n",
            "Searching for contourpy==1.2.1\n",
            "Best match: contourpy 1.2.1\n",
            "Adding contourpy 1.2.1 to easy-install.pth file\n",
            "\n",
            "Using /usr/local/lib/python3.10/dist-packages\n",
            "Searching for zipp==3.18.1\n",
            "Best match: zipp 3.18.1\n",
            "Adding zipp 3.18.1 to easy-install.pth file\n",
            "\n",
            "Using /usr/local/lib/python3.10/dist-packages\n",
            "Searching for PySocks==1.7.1\n",
            "Best match: PySocks 1.7.1\n",
            "Adding PySocks 1.7.1 to easy-install.pth file\n",
            "\n",
            "Using /usr/local/lib/python3.10/dist-packages\n",
            "Searching for certifi==2024.2.2\n",
            "Best match: certifi 2024.2.2\n",
            "Adding certifi 2024.2.2 to easy-install.pth file\n",
            "\n",
            "Using /usr/local/lib/python3.10/dist-packages\n",
            "Searching for urllib3==2.0.7\n",
            "Best match: urllib3 2.0.7\n",
            "Adding urllib3 2.0.7 to easy-install.pth file\n",
            "\n",
            "Using /usr/local/lib/python3.10/dist-packages\n",
            "Searching for idna==3.7\n",
            "Best match: idna 3.7\n",
            "Adding idna 3.7 to easy-install.pth file\n",
            "\n",
            "Using /usr/local/lib/python3.10/dist-packages\n",
            "Searching for charset-normalizer==3.3.2\n",
            "Best match: charset-normalizer 3.3.2\n",
            "Adding charset-normalizer 3.3.2 to easy-install.pth file\n",
            "Installing normalizer script to /usr/local/bin\n",
            "\n",
            "Using /usr/local/lib/python3.10/dist-packages\n",
            "Searching for soupsieve==2.5\n",
            "Best match: soupsieve 2.5\n",
            "Adding soupsieve 2.5 to easy-install.pth file\n",
            "\n",
            "Using /usr/local/lib/python3.10/dist-packages\n",
            "Searching for MarkupSafe==2.1.5\n",
            "Best match: MarkupSafe 2.1.5\n",
            "Adding MarkupSafe 2.1.5 to easy-install.pth file\n",
            "\n",
            "Using /usr/local/lib/python3.10/dist-packages\n",
            "Finished processing dependencies for torchreid==1.4.0\n"
          ]
        }
      ],
      "source": [
        "# cd to your preferred directory and clone this repo\n",
        "!git clone https://github.com/shredder0812/deep-person-reid.git\n",
        "\n",
        "# create environment\n",
        "%cd deep-person-reid/\n",
        "!pip create --name torchreid python=3.7\n",
        "!pip activate torchreid\n",
        "\n",
        "# install dependencies\n",
        "# make sure `which python` and `which pip` point to the correct path\n",
        "!pip install -r requirements.txt\n",
        "\n",
        "# install torch and torchvision (select the proper cuda version to suit your machine)\n",
        "!pip install pytorch torchvision cudatoolkit=9.0 -c pytorch\n",
        "\n",
        "# install torchreid (don't need to re-build it if you modify the source code)\n",
        "!python setup.py develop"
      ]
    },
    {
      "cell_type": "code",
      "execution_count": null,
      "metadata": {
        "id": "RnPkVpD4uoWv"
      },
      "outputs": [],
      "source": [
        "# create environment\n",
        "%cd deep-person-reid/\n",
        "!pip create --name torchreid python=3.7\n",
        "!pip activate torchreid\n",
        "\n",
        "# install dependencies\n",
        "# make sure `which python` and `which pip` point to the correct path\n",
        "!pip install -r requirements.txt\n",
        "\n",
        "# install torch and torchvision (select the proper cuda version to suit your machine)\n",
        "!pip install pytorch torchvision cudatoolkit=9.0 -c pytorch\n",
        "\n",
        "# install torchreid (don't need to re-build it if you modify the source code)\n",
        "!python setup.py develop"
      ]
    },
    {
      "cell_type": "code",
      "execution_count": null,
      "metadata": {
        "id": "dYoobey8gAfF"
      },
      "outputs": [],
      "source": [
        "!mkdir /content/deep-person-reid/reid-data"
      ]
    },
    {
      "cell_type": "code",
      "execution_count": null,
      "metadata": {
        "id": "i-SxcT8Kyvlk"
      },
      "outputs": [],
      "source": [
        "# make dataset dir ./deep-person-reid/reid-data/endocv\n",
        "!cp -r /content/drive/MyDrive/endocv  /content/deep-person-reid/reid-data"
      ]
    },
    {
      "cell_type": "code",
      "execution_count": null,
      "metadata": {
        "id": "J0cdkilhzFjy"
      },
      "outputs": [],
      "source": [
        "#!unzip /content/deep-person-reid/reid-data/endocv.zip -d /content/deep-person-reid/reid-data"
      ]
    },
    {
      "cell_type": "markdown",
      "metadata": {
        "id": "cjxQ3NOwu1lv"
      },
      "source": [
        "# Main"
      ]
    },
    {
      "cell_type": "code",
      "execution_count": null,
      "metadata": {
        "id": "vVAS4QpjZbU7"
      },
      "outputs": [],
      "source": [
        "import torchreid"
      ]
    },
    {
      "cell_type": "code",
      "execution_count": null,
      "metadata": {
        "colab": {
          "base_uri": "https://localhost:8080/"
        },
        "id": "ucBN03d5h7yt",
        "outputId": "5beb2441-5199-4f86-e4df-1c50e10e11e4"
      },
      "outputs": [
        {
          "name": "stdout",
          "output_type": "stream",
          "text": [
            "Building train transforms ...\n",
            "+ resize to 256x128\n",
            "+ random flip\n",
            "+ to torch tensor of range [0, 1]\n",
            "+ normalization (mean=[0.485, 0.456, 0.406], std=[0.229, 0.224, 0.225])\n",
            "Building test transforms ...\n",
            "+ resize to 256x128\n",
            "+ to torch tensor of range [0, 1]\n",
            "+ normalization (mean=[0.485, 0.456, 0.406], std=[0.229, 0.224, 0.225])\n",
            "=> Loading train (source) dataset\n",
            "=> Loaded EndoCV\n",
            "  ----------------------------------------\n",
            "  subset   | # ids | # images | # cameras\n",
            "  ----------------------------------------\n",
            "  train    |    36 |      648 |         6\n",
            "  query    |    36 |       83 |         6\n",
            "  gallery  |    36 |      183 |         1\n",
            "  ----------------------------------------\n",
            "=> Loading test (target) dataset\n",
            "=> Loaded EndoCV\n",
            "  ----------------------------------------\n",
            "  subset   | # ids | # images | # cameras\n",
            "  ----------------------------------------\n",
            "  train    |    36 |      648 |         6\n",
            "  query    |    36 |       83 |         6\n",
            "  gallery  |    36 |      183 |         1\n",
            "  ----------------------------------------\n",
            "\n",
            "\n",
            "  **************** Summary ****************\n",
            "  source            : ['endocv']\n",
            "  # source datasets : 1\n",
            "  # source ids      : 36\n",
            "  # source images   : 648\n",
            "  # source cameras  : 6\n",
            "  target            : ['endocv']\n",
            "  *****************************************\n",
            "\n",
            "\n"
          ]
        },
        {
          "name": "stderr",
          "output_type": "stream",
          "text": [
            "/content/deep-person-reid/torchreid/data/datasets/image/endocv.py:34: UserWarning: The current data structure is deprecated. Please put data folders such as \"bounding_box_train\" under \"Market-1501-v15.09.15\".\n",
            "  warnings.warn(\n",
            "/usr/local/lib/python3.10/dist-packages/torch/utils/data/dataloader.py:558: UserWarning: This DataLoader will create 4 worker processes in total. Our suggested max number of worker in current system is 2, which is smaller than what this DataLoader is going to create. Please be aware that excessive worker creation might get DataLoader running slow or even freeze, lower the worker number to avoid potential slowness/freeze if necessary.\n",
            "  warnings.warn(_create_warning_msg(\n"
          ]
        }
      ],
      "source": [
        "datamanager = torchreid.data.ImageDataManager(\n",
        "    root=\"reid-data\",\n",
        "    sources=\"endocv\",\n",
        "    targets=\"endocv\",\n",
        "    # height=256,\n",
        "    # width=128,\n",
        "    batch_size_train=32,\n",
        "    batch_size_test=100,\n",
        "    transforms=[\"random_flip\"]\n",
        ")"
      ]
    },
    {
      "cell_type": "code",
      "execution_count": null,
      "metadata": {
        "colab": {
          "base_uri": "https://localhost:8080/"
        },
        "id": "cpsAW1FLiMmM",
        "outputId": "bb00c89a-c4fe-4cd4-8981-a6e4f4f67e56"
      },
      "outputs": [
        {
          "name": "stderr",
          "output_type": "stream",
          "text": [
            "Downloading...\n",
            "From: https://drive.google.com/uc?id=1rb8UN5ZzPKRc_xvtHlyDh-cSz88YX9hs\n",
            "To: /root/.cache/torch/checkpoints/osnet_x0_25_imagenet.pth\n",
            "100%|██████████| 2.97M/2.97M [00:00<00:00, 217MB/s]"
          ]
        },
        {
          "name": "stdout",
          "output_type": "stream",
          "text": [
            "Successfully loaded imagenet pretrained weights from \"/root/.cache/torch/checkpoints/osnet_x0_25_imagenet.pth\"\n",
            "** The following layers are discarded due to unmatched keys or layer size: ['classifier.weight', 'classifier.bias']\n"
          ]
        },
        {
          "name": "stderr",
          "output_type": "stream",
          "text": [
            "\n"
          ]
        }
      ],
      "source": [
        "model = torchreid.models.build_model(\n",
        "    name=\"osnet_x0_25\", #osnet_x0_25\n",
        "    num_classes=datamanager.num_train_pids,\n",
        "    loss=\"softmax\",\n",
        "    pretrained=True\n",
        ")\n",
        "\n",
        "model = model.cuda()\n",
        "\n",
        "optimizer = torchreid.optim.build_optimizer(\n",
        "    model,\n",
        "    optim=\"adam\",\n",
        "    lr=0.0003\n",
        ")\n",
        "\n",
        "scheduler = torchreid.optim.build_lr_scheduler(\n",
        "    optimizer,\n",
        "    lr_scheduler=\"single_step\",\n",
        "    stepsize=20\n",
        ")"
      ]
    },
    {
      "cell_type": "code",
      "execution_count": null,
      "metadata": {
        "id": "yRmmuEMxiNq3"
      },
      "outputs": [],
      "source": [
        "engine = torchreid.engine.ImageSoftmaxEngine(\n",
        "    datamanager,\n",
        "    model,\n",
        "    optimizer=optimizer,\n",
        "    scheduler=scheduler,\n",
        "    label_smooth=True\n",
        ")\n"
      ]
    },
    {
      "cell_type": "code",
      "execution_count": null,
      "metadata": {
        "colab": {
          "base_uri": "https://localhost:8080/"
        },
        "id": "9PeJY9zKiSpf",
        "outputId": "fc70b234-1ded-44fe-e89b-1c4530693555"
      },
      "outputs": [
        {
          "name": "stdout",
          "output_type": "stream",
          "text": [
            "=> Start training\n",
            "epoch: [1/100][10/20]\ttime 0.265 (0.368)\tdata 0.005 (0.141)\teta 0:12:11\tloss 1.2552 (1.3564)\tacc 87.5000 (81.5625)\tlr 0.000030\n",
            "epoch: [1/100][20/20]\ttime 0.092 (0.262)\tdata 0.000 (0.073)\teta 0:08:39\tloss 1.2145 (1.3180)\tacc 90.6250 (83.4375)\tlr 0.000030\n",
            "epoch: [2/100][10/20]\ttime 0.373 (0.608)\tdata 0.001 (0.229)\teta 0:19:57\tloss 1.4466 (1.2837)\tacc 75.0000 (85.6250)\tlr 0.000030\n",
            "epoch: [2/100][20/20]\ttime 0.077 (0.467)\tdata 0.000 (0.150)\teta 0:15:16\tloss 1.3087 (1.3079)\tacc 78.1250 (83.5938)\tlr 0.000030\n",
            "epoch: [3/100][10/20]\ttime 0.329 (0.617)\tdata 0.005 (0.238)\teta 0:20:03\tloss 1.2468 (1.2507)\tacc 78.1250 (86.2500)\tlr 0.000030\n",
            "epoch: [3/100][20/20]\ttime 0.061 (0.394)\tdata 0.000 (0.137)\teta 0:12:44\tloss 1.4012 (1.3086)\tacc 84.3750 (82.6562)\tlr 0.000030\n",
            "epoch: [4/100][10/20]\ttime 0.389 (0.523)\tdata 0.014 (0.163)\teta 0:16:49\tloss 1.3943 (1.3483)\tacc 81.2500 (80.3125)\tlr 0.000030\n",
            "epoch: [4/100][20/20]\ttime 0.077 (0.427)\tdata 0.000 (0.113)\teta 0:13:40\tloss 1.1799 (1.2971)\tacc 93.7500 (83.2812)\tlr 0.000030\n",
            "epoch: [5/100][10/20]\ttime 0.198 (0.346)\tdata 0.006 (0.126)\teta 0:11:00\tloss 1.1657 (1.3146)\tacc 93.7500 (83.7500)\tlr 0.000030\n",
            "epoch: [5/100][20/20]\ttime 0.060 (0.259)\tdata 0.000 (0.077)\teta 0:08:11\tloss 1.1398 (1.2994)\tacc 93.7500 (83.5938)\tlr 0.000030\n",
            "epoch: [6/100][10/20]\ttime 0.214 (0.327)\tdata 0.010 (0.117)\teta 0:10:18\tloss 1.3428 (1.2648)\tacc 78.1250 (84.3750)\tlr 0.000030\n",
            "epoch: [6/100][20/20]\ttime 0.072 (0.265)\tdata 0.000 (0.071)\teta 0:08:18\tloss 1.2481 (1.2759)\tacc 84.3750 (82.9688)\tlr 0.000030\n",
            "epoch: [7/100][10/20]\ttime 0.419 (0.613)\tdata 0.045 (0.224)\teta 0:19:05\tloss 1.5717 (1.2764)\tacc 68.7500 (84.3750)\tlr 0.000030\n",
            "epoch: [7/100][20/20]\ttime 0.061 (0.417)\tdata 0.000 (0.122)\teta 0:12:56\tloss 1.2885 (1.2730)\tacc 84.3750 (84.6875)\tlr 0.000030\n",
            "epoch: [8/100][10/20]\ttime 0.203 (0.341)\tdata 0.003 (0.121)\teta 0:10:31\tloss 1.2847 (1.3040)\tacc 87.5000 (83.7500)\tlr 0.000030\n",
            "epoch: [8/100][20/20]\ttime 0.061 (0.255)\tdata 0.000 (0.070)\teta 0:07:48\tloss 1.1692 (1.2989)\tacc 90.6250 (84.8438)\tlr 0.000030\n",
            "epoch: [9/100][10/20]\ttime 0.278 (0.360)\tdata 0.004 (0.144)\teta 0:10:59\tloss 1.2304 (1.2752)\tacc 78.1250 (84.3750)\tlr 0.000030\n",
            "epoch: [9/100][20/20]\ttime 0.070 (0.308)\tdata 0.000 (0.092)\teta 0:09:19\tloss 1.0374 (1.2696)\tacc 93.7500 (84.2188)\tlr 0.000030\n",
            "epoch: [10/100][10/20]\ttime 0.192 (0.566)\tdata 0.001 (0.197)\teta 0:17:04\tloss 1.2036 (1.2673)\tacc 87.5000 (85.0000)\tlr 0.000030\n",
            "epoch: [10/100][20/20]\ttime 0.060 (0.368)\tdata 0.000 (0.109)\teta 0:11:02\tloss 1.1612 (1.2522)\tacc 90.6250 (85.6250)\tlr 0.000030\n",
            "##### Evaluating endocv (source) #####\n",
            "Extracting features from query set ...\n",
            "Done, obtained 83-by-512 matrix\n",
            "Extracting features from gallery set ...\n",
            "Done, obtained 183-by-512 matrix\n",
            "Speed: 0.0252 sec/batch\n",
            "Computing distance matrix with metric=euclidean ...\n",
            "Computing CMC and mAP ...\n",
            "** Results **\n",
            "mAP: 49.7%\n",
            "CMC curve\n",
            "Rank-1  : 54.0%\n",
            "Rank-5  : 76.2%\n",
            "Rank-10 : 87.3%\n",
            "Rank-20 : 92.1%\n",
            "Checkpoint saved to \"log/osnetx025endo/model/model.pth.tar-10\"\n",
            "epoch: [11/100][10/20]\ttime 0.177 (0.368)\tdata 0.001 (0.157)\teta 0:10:59\tloss 1.1444 (1.2345)\tacc 90.6250 (86.5625)\tlr 0.000030\n",
            "epoch: [11/100][20/20]\ttime 0.091 (0.261)\tdata 0.000 (0.097)\teta 0:07:44\tloss 1.2352 (1.2406)\tacc 81.2500 (86.2500)\tlr 0.000030\n",
            "epoch: [12/100][10/20]\ttime 0.382 (0.559)\tdata 0.007 (0.210)\teta 0:16:29\tloss 1.2216 (1.2309)\tacc 87.5000 (85.3125)\tlr 0.000030\n",
            "epoch: [12/100][20/20]\ttime 0.068 (0.410)\tdata 0.000 (0.129)\teta 0:12:01\tloss 1.1445 (1.2394)\tacc 90.6250 (84.3750)\tlr 0.000030\n",
            "epoch: [13/100][10/20]\ttime 0.195 (0.325)\tdata 0.001 (0.105)\teta 0:09:28\tloss 1.2720 (1.2693)\tacc 87.5000 (84.6875)\tlr 0.000030\n",
            "epoch: [13/100][20/20]\ttime 0.066 (0.258)\tdata 0.000 (0.074)\teta 0:07:29\tloss 1.1165 (1.2516)\tacc 96.8750 (85.1562)\tlr 0.000030\n",
            "epoch: [14/100][10/20]\ttime 0.211 (0.348)\tdata 0.001 (0.132)\teta 0:10:01\tloss 1.2891 (1.2255)\tacc 78.1250 (86.8750)\tlr 0.000030\n",
            "epoch: [14/100][20/20]\ttime 0.081 (0.310)\tdata 0.000 (0.086)\teta 0:08:52\tloss 1.4631 (1.2278)\tacc 78.1250 (86.5625)\tlr 0.000030\n",
            "epoch: [15/100][10/20]\ttime 0.243 (0.578)\tdata 0.004 (0.216)\teta 0:16:27\tloss 1.3336 (1.2218)\tacc 81.2500 (86.5625)\tlr 0.000030\n",
            "epoch: [15/100][20/20]\ttime 0.060 (0.372)\tdata 0.000 (0.108)\teta 0:10:31\tloss 1.2337 (1.2387)\tacc 78.1250 (85.7812)\tlr 0.000030\n",
            "epoch: [16/100][10/20]\ttime 0.225 (0.354)\tdata 0.004 (0.107)\teta 0:09:57\tloss 1.1790 (1.1946)\tacc 93.7500 (88.1250)\tlr 0.000003\n",
            "epoch: [16/100][20/20]\ttime 0.060 (0.261)\tdata 0.000 (0.058)\teta 0:07:17\tloss 1.2975 (1.2273)\tacc 84.3750 (87.0312)\tlr 0.000003\n",
            "epoch: [17/100][10/20]\ttime 0.593 (0.454)\tdata 0.204 (0.159)\teta 0:12:37\tloss 1.1274 (1.2004)\tacc 96.8750 (87.8125)\tlr 0.000003\n",
            "epoch: [17/100][20/20]\ttime 0.081 (0.366)\tdata 0.000 (0.097)\teta 0:10:08\tloss 1.2650 (1.2116)\tacc 87.5000 (86.8750)\tlr 0.000003\n",
            "epoch: [18/100][10/20]\ttime 0.241 (0.353)\tdata 0.052 (0.130)\teta 0:09:42\tloss 1.1912 (1.2412)\tacc 90.6250 (87.5000)\tlr 0.000003\n",
            "epoch: [18/100][20/20]\ttime 0.071 (0.261)\tdata 0.000 (0.075)\teta 0:07:08\tloss 1.3063 (1.2460)\tacc 84.3750 (86.5625)\tlr 0.000003\n",
            "epoch: [19/100][10/20]\ttime 0.277 (0.324)\tdata 0.042 (0.107)\teta 0:08:48\tloss 1.2450 (1.2271)\tacc 84.3750 (83.4375)\tlr 0.000003\n",
            "epoch: [19/100][20/20]\ttime 0.074 (0.265)\tdata 0.000 (0.072)\teta 0:07:08\tloss 1.1267 (1.2227)\tacc 93.7500 (84.3750)\tlr 0.000003\n",
            "epoch: [20/100][10/20]\ttime 0.403 (0.601)\tdata 0.013 (0.213)\teta 0:16:07\tloss 1.0576 (1.1798)\tacc 93.7500 (88.4375)\tlr 0.000003\n",
            "epoch: [20/100][20/20]\ttime 0.062 (0.424)\tdata 0.000 (0.127)\teta 0:11:18\tloss 1.2429 (1.1969)\tacc 90.6250 (87.6562)\tlr 0.000003\n",
            "##### Evaluating endocv (source) #####\n",
            "Extracting features from query set ...\n",
            "Done, obtained 83-by-512 matrix\n",
            "Extracting features from gallery set ...\n",
            "Done, obtained 183-by-512 matrix\n",
            "Speed: 0.0262 sec/batch\n",
            "Computing distance matrix with metric=euclidean ...\n",
            "Computing CMC and mAP ...\n",
            "** Results **\n",
            "mAP: 49.5%\n",
            "CMC curve\n",
            "Rank-1  : 55.6%\n",
            "Rank-5  : 77.8%\n",
            "Rank-10 : 85.7%\n",
            "Rank-20 : 93.7%\n",
            "Checkpoint saved to \"log/osnetx025endo/model/model.pth.tar-20\"\n",
            "epoch: [21/100][10/20]\ttime 0.180 (0.376)\tdata 0.005 (0.175)\teta 0:09:58\tloss 1.2128 (1.1685)\tacc 93.7500 (90.6250)\tlr 0.000003\n",
            "epoch: [21/100][20/20]\ttime 0.065 (0.264)\tdata 0.000 (0.090)\teta 0:06:57\tloss 1.1330 (1.1964)\tacc 90.6250 (89.0625)\tlr 0.000003\n",
            "epoch: [22/100][10/20]\ttime 0.414 (0.512)\tdata 0.001 (0.161)\teta 0:13:23\tloss 1.3398 (1.1975)\tacc 81.2500 (87.8125)\tlr 0.000003\n",
            "epoch: [22/100][20/20]\ttime 0.084 (0.426)\tdata 0.000 (0.110)\teta 0:11:05\tloss 1.2487 (1.2189)\tacc 93.7500 (87.0312)\tlr 0.000003\n",
            "epoch: [23/100][10/20]\ttime 0.240 (0.363)\tdata 0.005 (0.126)\teta 0:09:22\tloss 1.1437 (1.2551)\tacc 90.6250 (83.7500)\tlr 0.000003\n",
            "epoch: [23/100][20/20]\ttime 0.066 (0.264)\tdata 0.000 (0.065)\teta 0:06:46\tloss 1.0955 (1.2136)\tacc 93.7500 (86.7188)\tlr 0.000003\n",
            "epoch: [24/100][10/20]\ttime 0.177 (0.345)\tdata 0.001 (0.133)\teta 0:08:47\tloss 1.2469 (1.1881)\tacc 81.2500 (87.8125)\tlr 0.000003\n",
            "epoch: [24/100][20/20]\ttime 0.081 (0.265)\tdata 0.000 (0.072)\teta 0:06:43\tloss 1.1920 (1.2163)\tacc 84.3750 (86.7188)\tlr 0.000003\n",
            "epoch: [25/100][10/20]\ttime 0.574 (0.596)\tdata 0.178 (0.202)\teta 0:14:59\tloss 1.1524 (1.1590)\tacc 84.3750 (89.3750)\tlr 0.000003\n",
            "epoch: [25/100][20/20]\ttime 0.067 (0.407)\tdata 0.000 (0.110)\teta 0:10:10\tloss 1.2483 (1.1864)\tacc 87.5000 (88.5938)\tlr 0.000003\n",
            "epoch: [26/100][10/20]\ttime 0.294 (0.343)\tdata 0.092 (0.133)\teta 0:08:30\tloss 1.2569 (1.2496)\tacc 87.5000 (85.0000)\tlr 0.000003\n",
            "epoch: [26/100][20/20]\ttime 0.066 (0.256)\tdata 0.000 (0.070)\teta 0:06:18\tloss 1.3851 (1.2546)\tacc 71.8750 (84.8438)\tlr 0.000003\n",
            "epoch: [27/100][10/20]\ttime 0.344 (0.356)\tdata 0.005 (0.127)\teta 0:08:42\tloss 1.0398 (1.2548)\tacc 90.6250 (83.1250)\tlr 0.000003\n",
            "epoch: [27/100][20/20]\ttime 0.105 (0.323)\tdata 0.001 (0.079)\teta 0:07:51\tloss 1.0907 (1.2200)\tacc 96.8750 (85.0000)\tlr 0.000003\n"
          ]
        }
      ],
      "source": [
        "engine.run(\n",
        "    save_dir=\"log/osnetx025endo\",\n",
        "    max_epoch=100,\n",
        "    eval_freq=10,\n",
        "    print_freq=10\n",
        "    # if validate, enable 3 lines below\n",
        "    # test_only=True,\n",
        "    # visrank=True,\n",
        "    # visrank_topk=10\n",
        "\n",
        ")"
      ]
    },
    {
      "cell_type": "code",
      "execution_count": null,
      "metadata": {
        "id": "e7PKJLoeoPty"
      },
      "outputs": [],
      "source": [
        "!pip install tensorflow"
      ]
    },
    {
      "cell_type": "code",
      "execution_count": null,
      "metadata": {
        "id": "BU4r8w-VplPP"
      },
      "outputs": [],
      "source": [
        "!pip install tensorboard"
      ]
    },
    {
      "cell_type": "code",
      "execution_count": null,
      "metadata": {
        "id": "x4q-Bw8BqKqx"
      },
      "outputs": [],
      "source": [
        "%load_ext tensorboard"
      ]
    },
    {
      "cell_type": "code",
      "execution_count": null,
      "metadata": {
        "id": "a5ll_L1_Zov-"
      },
      "outputs": [],
      "source": [
        "import tensorflow as tf\n",
        "import datetime"
      ]
    },
    {
      "cell_type": "code",
      "execution_count": null,
      "metadata": {
        "colab": {
          "base_uri": "https://localhost:8080/",
          "height": 555
        },
        "id": "1f0r65YSpuPq",
        "outputId": "d51bd269-08db-48d4-9c06-cf0d1de3cc85"
      },
      "outputs": [
        {
          "data": {
            "text/plain": [
              "ERROR: Failed to launch TensorBoard (exited with 1).\n",
              "Contents of stderr:\n",
              "2024-05-08 18:11:35.818599: E external/local_xla/xla/stream_executor/cuda/cuda_dnn.cc:9261] Unable to register cuDNN factory: Attempting to register factory for plugin cuDNN when one has already been registered\n",
              "2024-05-08 18:11:35.818674: E external/local_xla/xla/stream_executor/cuda/cuda_fft.cc:607] Unable to register cuFFT factory: Attempting to register factory for plugin cuFFT when one has already been registered\n",
              "2024-05-08 18:11:35.819903: E external/local_xla/xla/stream_executor/cuda/cuda_blas.cc:1515] Unable to register cuBLAS factory: Attempting to register factory for plugin cuBLAS when one has already been registered\n",
              "2024-05-08 18:11:37.039222: W tensorflow/compiler/tf2tensorrt/utils/py_utils.cc:38] TF-TRT Warning: Could not find TensorRT\n",
              "\n",
              "NOTE: Using experimental fast data loading logic. To disable, pass\n",
              "    \"--load_fast=false\" and report issues on GitHub. More details:\n",
              "    https://github.com/tensorflow/tensorboard/issues/4784\n",
              "\n",
              "Traceback (most recent call last):\n",
              "  File \"/usr/local/bin/tensorboard\", line 33, in <module>\n",
              "    sys.exit(load_entry_point('tb-nightly', 'console_scripts', 'tensorboard')())\n",
              "  File \"/usr/local/lib/python3.10/dist-packages/tensorboard/main.py\", line 41, in run_main\n",
              "    app.run(tensorboard.main, flags_parser=tensorboard.configure)\n",
              "  File \"/usr/local/lib/python3.10/dist-packages/absl/app.py\", line 308, in run\n",
              "    _run_main(main, args)\n",
              "  File \"/usr/local/lib/python3.10/dist-packages/absl/app.py\", line 254, in _run_main\n",
              "    sys.exit(main(argv))\n",
              "  File \"/usr/local/lib/python3.10/dist-packages/tensorboard/program.py\", line 278, in main\n",
              "    return runner(self.flags) or 0\n",
              "  File \"/usr/local/lib/python3.10/dist-packages/tensorboard/program.py\", line 294, in _run_serve_subcommand\n",
              "    server = self._make_server()\n",
              "  File \"/usr/local/lib/python3.10/dist-packages/tensorboard/program.py\", line 469, in _make_server\n",
              "    app = application.TensorBoardWSGIApp(\n",
              "  File \"/usr/local/lib/python3.10/dist-packages/tensorboard/backend/application.py\", line 139, in TensorBoardWSGIApp\n",
              "    return TensorBoardWSGI(\n",
              "  File \"/usr/local/lib/python3.10/dist-packages/tensorboard/backend/application.py\", line 252, in __init__\n",
              "    raise ValueError(\n",
              "ValueError: Duplicate plugins for name projector"
            ]
          },
          "metadata": {},
          "output_type": "display_data"
        }
      ],
      "source": [
        "%tensorboard --logdir /content/deep-person-reid/log/osnetx025endo"
      ]
    },
    {
      "cell_type": "code",
      "execution_count": null,
      "metadata": {
        "colab": {
          "base_uri": "https://localhost:8080/",
          "height": 520
        },
        "id": "niAcGJk0ngkX",
        "outputId": "d6cc6ca6-41cb-4d62-8340-373c97992044"
      },
      "outputs": [
        {
          "data": {
            "text/plain": [
              "ERROR: Failed to launch TensorBoard (exited with 1).\n",
              "Contents of stderr:\n",
              "2024-04-23 15:48:38.544925: E external/local_xla/xla/stream_executor/cuda/cuda_dnn.cc:9261] Unable to register cuDNN factory: Attempting to register factory for plugin cuDNN when one has already been registered\n",
              "2024-04-23 15:48:38.545002: E external/local_xla/xla/stream_executor/cuda/cuda_fft.cc:607] Unable to register cuFFT factory: Attempting to register factory for plugin cuFFT when one has already been registered\n",
              "2024-04-23 15:48:38.546258: E external/local_xla/xla/stream_executor/cuda/cuda_blas.cc:1515] Unable to register cuBLAS factory: Attempting to register factory for plugin cuBLAS when one has already been registered\n",
              "2024-04-23 15:48:39.613973: W tensorflow/compiler/tf2tensorrt/utils/py_utils.cc:38] TF-TRT Warning: Could not find TensorRT\n",
              "Traceback (most recent call last):\n",
              "  File \"/usr/local/bin/tensorboard\", line 33, in <module>\n",
              "    sys.exit(load_entry_point('tb-nightly', 'console_scripts', 'tensorboard')())\n",
              "  File \"/usr/local/lib/python3.10/dist-packages/tensorboard/main.py\", line 41, in run_main\n",
              "    app.run(tensorboard.main, flags_parser=tensorboard.configure)\n",
              "  File \"/usr/local/lib/python3.10/dist-packages/absl/app.py\", line 308, in run\n",
              "    _run_main(main, args)\n",
              "  File \"/usr/local/lib/python3.10/dist-packages/absl/app.py\", line 254, in _run_main\n",
              "    sys.exit(main(argv))\n",
              "  File \"/usr/local/lib/python3.10/dist-packages/tensorboard/program.py\", line 278, in main\n",
              "    return runner(self.flags) or 0\n",
              "  File \"/usr/local/lib/python3.10/dist-packages/tensorboard/program.py\", line 294, in _run_serve_subcommand\n",
              "    server = self._make_server()\n",
              "  File \"/usr/local/lib/python3.10/dist-packages/tensorboard/program.py\", line 469, in _make_server\n",
              "    app = application.TensorBoardWSGIApp(\n",
              "  File \"/usr/local/lib/python3.10/dist-packages/tensorboard/backend/application.py\", line 139, in TensorBoardWSGIApp\n",
              "    return TensorBoardWSGI(\n",
              "  File \"/usr/local/lib/python3.10/dist-packages/tensorboard/backend/application.py\", line 252, in __init__\n",
              "    raise ValueError(\n",
              "ValueError: Duplicate plugins for name projector"
            ]
          },
          "metadata": {},
          "output_type": "display_data"
        }
      ],
      "source": [
        "import tensorflow as tf\n",
        "from tensorboard import notebook\n",
        "\n",
        "notebook.start(\"--load_fast=false --logdir /content/deep-person-reid/log/osnetx025\")\n",
        "\n",
        "#"
      ]
    },
    {
      "cell_type": "code",
      "execution_count": null,
      "metadata": {
        "colab": {
          "base_uri": "https://localhost:8080/",
          "height": 607
        },
        "id": "mQdPhQv0o9Ng",
        "outputId": "a3a85394-fdc1-4dff-ab79-189b6862e60a"
      },
      "outputs": [
        {
          "data": {
            "text/plain": [
              "ERROR: Failed to launch TensorBoard (exited with 1).\n",
              "Contents of stderr:\n",
              "2024-04-23 15:54:20.475363: E external/local_xla/xla/stream_executor/cuda/cuda_dnn.cc:9261] Unable to register cuDNN factory: Attempting to register factory for plugin cuDNN when one has already been registered\n",
              "2024-04-23 15:54:20.475450: E external/local_xla/xla/stream_executor/cuda/cuda_fft.cc:607] Unable to register cuFFT factory: Attempting to register factory for plugin cuFFT when one has already been registered\n",
              "2024-04-23 15:54:20.477184: E external/local_xla/xla/stream_executor/cuda/cuda_blas.cc:1515] Unable to register cuBLAS factory: Attempting to register factory for plugin cuBLAS when one has already been registered\n",
              "2024-04-23 15:54:22.867048: W tensorflow/compiler/tf2tensorrt/utils/py_utils.cc:38] TF-TRT Warning: Could not find TensorRT\n",
              "\n",
              "NOTE: Using experimental fast data loading logic. To disable, pass\n",
              "    \"--load_fast=false\" and report issues on GitHub. More details:\n",
              "    https://github.com/tensorflow/tensorboard/issues/4784\n",
              "\n",
              "Traceback (most recent call last):\n",
              "  File \"/usr/local/bin/tensorboard\", line 8, in <module>\n",
              "    sys.exit(run_main())\n",
              "  File \"/usr/local/lib/python3.10/dist-packages/tensorboard/main.py\", line 41, in run_main\n",
              "    app.run(tensorboard.main, flags_parser=tensorboard.configure)\n",
              "  File \"/usr/local/lib/python3.10/dist-packages/absl/app.py\", line 308, in run\n",
              "    _run_main(main, args)\n",
              "  File \"/usr/local/lib/python3.10/dist-packages/absl/app.py\", line 254, in _run_main\n",
              "    sys.exit(main(argv))\n",
              "  File \"/usr/local/lib/python3.10/dist-packages/tensorboard/program.py\", line 278, in main\n",
              "    return runner(self.flags) or 0\n",
              "  File \"/usr/local/lib/python3.10/dist-packages/tensorboard/program.py\", line 294, in _run_serve_subcommand\n",
              "    server = self._make_server()\n",
              "  File \"/usr/local/lib/python3.10/dist-packages/tensorboard/program.py\", line 469, in _make_server\n",
              "    app = application.TensorBoardWSGIApp(\n",
              "  File \"/usr/local/lib/python3.10/dist-packages/tensorboard/backend/application.py\", line 139, in TensorBoardWSGIApp\n",
              "    return TensorBoardWSGI(\n",
              "  File \"/usr/local/lib/python3.10/dist-packages/tensorboard/backend/application.py\", line 252, in __init__\n",
              "    raise ValueError(\n",
              "ValueError: Duplicate plugins for name projector"
            ]
          },
          "metadata": {},
          "output_type": "display_data"
        }
      ],
      "source": [
        "%tensorboard --logdir /content/deep-person-reid/log/osnetx025"
      ]
    },
    {
      "cell_type": "code",
      "execution_count": null,
      "metadata": {
        "id": "V0YcaE-Qmy61"
      },
      "outputs": [],
      "source": [
        "import torch\n",
        "\n",
        "model = torch.load('/content/drive/MyDrive/torchreid_model/osnet_x0_25_endocv.pt')\n",
        "\n",
        "\n",
        "# Lưu mô hình vào tệp pt\n",
        "torch.save(model, 'osnet_x0_25_endocv.pth')"
      ]
    },
    {
      "cell_type": "code",
      "execution_count": null,
      "metadata": {
        "colab": {
          "base_uri": "https://localhost:8080/"
        },
        "id": "EcED-rPxjqZ4",
        "outputId": "e1b8aeb5-cb89-4d12-eb1d-074d16d64f6e"
      },
      "outputs": [
        {
          "name": "stdout",
          "output_type": "stream",
          "text": [
            "2024-05-08 18:08:17.750741: E external/local_xla/xla/stream_executor/cuda/cuda_dnn.cc:9261] Unable to register cuDNN factory: Attempting to register factory for plugin cuDNN when one has already been registered\n",
            "2024-05-08 18:08:17.750803: E external/local_xla/xla/stream_executor/cuda/cuda_fft.cc:607] Unable to register cuFFT factory: Attempting to register factory for plugin cuFFT when one has already been registered\n",
            "2024-05-08 18:08:17.752466: E external/local_xla/xla/stream_executor/cuda/cuda_blas.cc:1515] Unable to register cuBLAS factory: Attempting to register factory for plugin cuBLAS when one has already been registered\n",
            "2024-05-08 18:08:19.165956: W tensorflow/compiler/tf2tensorrt/utils/py_utils.cc:38] TF-TRT Warning: Could not find TensorRT\n",
            "Building train transforms ...\n",
            "+ resize to 256x128\n",
            "+ to torch tensor of range [0, 1]\n",
            "+ normalization (mean=[0.485, 0.456, 0.406], std=[0.229, 0.224, 0.225])\n",
            "Building test transforms ...\n",
            "+ resize to 256x128\n",
            "+ to torch tensor of range [0, 1]\n",
            "+ normalization (mean=[0.485, 0.456, 0.406], std=[0.229, 0.224, 0.225])\n",
            "=> Loading train (source) dataset\n",
            "/content/deep-person-reid/torchreid/data/datasets/image/endocv.py:34: UserWarning: The current data structure is deprecated. Please put data folders such as \"bounding_box_train\" under \"Market-1501-v15.09.15\".\n",
            "  warnings.warn(\n",
            "=> Loaded EndoCV\n",
            "  ----------------------------------------\n",
            "  subset   | # ids | # images | # cameras\n",
            "  ----------------------------------------\n",
            "  train    |    36 |      648 |         6\n",
            "  query    |    36 |       83 |         6\n",
            "  gallery  |    36 |      183 |         1\n",
            "  ----------------------------------------\n",
            "/usr/local/lib/python3.10/dist-packages/torch/utils/data/dataloader.py:558: UserWarning: This DataLoader will create 4 worker processes in total. Our suggested max number of worker in current system is 2, which is smaller than what this DataLoader is going to create. Please be aware that excessive worker creation might get DataLoader running slow or even freeze, lower the worker number to avoid potential slowness/freeze if necessary.\n",
            "  warnings.warn(_create_warning_msg(\n",
            "=> Loading test (target) dataset\n",
            "=> Loaded EndoCV\n",
            "  ----------------------------------------\n",
            "  subset   | # ids | # images | # cameras\n",
            "  ----------------------------------------\n",
            "  train    |    36 |      648 |         6\n",
            "  query    |    36 |       83 |         6\n",
            "  gallery  |    36 |      183 |         1\n",
            "  ----------------------------------------\n",
            "\n",
            "\n",
            "  **************** Summary ****************\n",
            "  source            : ['endocv']\n",
            "  # source datasets : 1\n",
            "  # source ids      : 36\n",
            "  # source images   : 648\n",
            "  # source cameras  : 6\n",
            "  target            : ['endocv']\n",
            "  *****************************************\n",
            "\n",
            "\n",
            "Successfully loaded imagenet pretrained weights from \"/root/.cache/torch/checkpoints/osnet_x0_25_imagenet.pth\"\n",
            "** The following layers are discarded due to unmatched keys or layer size: ['classifier.weight', 'classifier.bias']\n",
            "Successfully loaded pretrained weights from \"/content/deep-person-reid/osnet_x0_25_endocv.pt\"\n",
            "Visualizing activation maps for endocv ...\n",
            "/usr/lib/python3.10/multiprocessing/popen_fork.py:66: RuntimeWarning: os.fork() was called. os.fork() is incompatible with multithreaded code, and JAX is multithreaded, so this will likely lead to a deadlock.\n",
            "  self.pid = os.fork()\n"
          ]
        }
      ],
      "source": [
        "!python tools/visualize_actmap.py \\\n",
        "--root /content/deep-person-reid/reid-data \\\n",
        "-d endocv \\\n",
        "-m osnet_x0_25 \\\n",
        "--weights /content/deep-person-reid/osnet_x0_25_endocv.pt \\\n",
        "--save-dir log/visactmap_osnet_x0_25"
      ]
    },
    {
      "cell_type": "code",
      "execution_count": null,
      "metadata": {
        "colab": {
          "base_uri": "https://localhost:8080/"
        },
        "id": "VmNLKlAanOX-",
        "outputId": "60ea0112-e9f1-473d-8bd9-264bc1fc61af"
      },
      "outputs": [
        {
          "name": "stdout",
          "output_type": "stream",
          "text": [
            "Model: osnet_x0_25\n",
            "- params: 203,568\n",
            "- flops: 82,316,000\n",
            "Successfully loaded pretrained weights from \"/content/deep-person-reid/log/osnetx025/model/model.pth.tar-50\"\n",
            "** The following layers are discarded due to unmatched keys or layer size: ['classifier.weight', 'classifier.bias']\n",
            "torch.Size([6, 512])\n"
          ]
        }
      ],
      "source": [
        "from torchreid.utils import FeatureExtractor\n",
        "\n",
        "extractor = FeatureExtractor(\n",
        "    model_name='osnet_x0_25',\n",
        "    model_path='/content/deep-person-reid/osnet_x0_25_model_endo.pt',\n",
        "    device='cuda'\n",
        ")\n",
        "\n",
        "image_list = [\n",
        "    '/content/deep-person-reid/reid-data/endocv/query/0001_c1s2_000226_01.jpg',\n",
        "    '/content/deep-person-reid/reid-data/endocv/query/0002_c2s1_000205_01.jpg',\n",
        "    '/content/deep-person-reid/reid-data/endocv/query/0003_c3s1_000125_01.jpg',\n",
        "    '/content/deep-person-reid/reid-data/endocv/query/0004_c4s1_000137_01.jpg',\n",
        "    '/content/deep-person-reid/reid-data/endocv/query/0005_c5s2_000039_01.jpg',\n",
        "    '/content/deep-person-reid/reid-data/endocv/query/0006_c6s2_000014_01.jpg'\n",
        "]\n",
        "\n",
        "features = extractor(image_list)\n",
        "print(features.shape) # output (5, 512)"
      ]
    },
    {
      "cell_type": "code",
      "execution_count": null,
      "metadata": {
        "colab": {
          "base_uri": "https://localhost:8080/"
        },
        "id": "OFyHD0A1mv7-",
        "outputId": "d85556c9-bd6c-4d11-cb4a-3eb1dc23982f"
      },
      "outputs": [
        {
          "name": "stdout",
          "output_type": "stream",
          "text": [
            "tensor([[1.2108, 0.0000, 0.5007,  ..., 0.0000, 0.3413, 0.0000],\n",
            "        [0.0000, 0.0000, 0.0000,  ..., 0.2481, 0.2577, 1.2484],\n",
            "        [3.1901, 0.0000, 0.9175,  ..., 0.0000, 0.2050, 0.0000],\n",
            "        [0.0000, 3.2798, 0.0000,  ..., 0.0000, 0.7325, 2.1805],\n",
            "        [0.0000, 0.7419, 0.0000,  ..., 1.4197, 0.0000, 0.0000],\n",
            "        [0.0000, 0.0000, 1.7335,  ..., 0.0000, 0.5269, 0.0000]],\n",
            "       device='cuda:0')\n"
          ]
        }
      ],
      "source": [
        "print(features)"
      ]
    },
    {
      "cell_type": "code",
      "execution_count": null,
      "metadata": {
        "id": "5BaHt-solt1c"
      },
      "outputs": [],
      "source": [
        "!cp -r /content/deep-person-reid/log/osnetx025_2/visrank_endocv /content/drive/MyDrive/logs"
      ]
    }
  ],
  "metadata": {
    "accelerator": "GPU",
    "colab": {
      "collapsed_sections": [
        "PbZUSFpjDAZs"
      ],
      "gpuType": "T4",
      "provenance": []
    },
    "kernelspec": {
      "display_name": "Python 3",
      "name": "python3"
    },
    "language_info": {
      "name": "python"
    }
  },
  "nbformat": 4,
  "nbformat_minor": 0
}
